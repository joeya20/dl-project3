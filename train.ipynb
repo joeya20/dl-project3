{
 "cells": [
  {
   "cell_type": "code",
   "execution_count": 1,
   "id": "963198d1",
   "metadata": {},
   "outputs": [
    {
     "name": "stdout",
     "output_type": "stream",
     "text": [
      "Requirement already satisfied: torch in ./env/lib/python3.11/site-packages (2.7.0)\n",
      "Requirement already satisfied: torchvision in ./env/lib/python3.11/site-packages (0.22.0)\n",
      "Requirement already satisfied: numpy in ./env/lib/python3.11/site-packages (2.2.5)\n",
      "Requirement already satisfied: filelock in ./env/lib/python3.11/site-packages (from torch) (3.18.0)\n",
      "Requirement already satisfied: typing-extensions>=4.10.0 in ./env/lib/python3.11/site-packages (from torch) (4.13.2)\n",
      "Requirement already satisfied: sympy>=1.13.3 in ./env/lib/python3.11/site-packages (from torch) (1.14.0)\n",
      "Requirement already satisfied: networkx in ./env/lib/python3.11/site-packages (from torch) (3.4.2)\n",
      "Requirement already satisfied: jinja2 in ./env/lib/python3.11/site-packages (from torch) (3.1.6)\n",
      "Requirement already satisfied: fsspec in ./env/lib/python3.11/site-packages (from torch) (2025.3.2)\n",
      "Requirement already satisfied: nvidia-cuda-nvrtc-cu12==12.6.77 in ./env/lib/python3.11/site-packages (from torch) (12.6.77)\n",
      "Requirement already satisfied: nvidia-cuda-runtime-cu12==12.6.77 in ./env/lib/python3.11/site-packages (from torch) (12.6.77)\n",
      "Requirement already satisfied: nvidia-cuda-cupti-cu12==12.6.80 in ./env/lib/python3.11/site-packages (from torch) (12.6.80)\n",
      "Requirement already satisfied: nvidia-cudnn-cu12==9.5.1.17 in ./env/lib/python3.11/site-packages (from torch) (9.5.1.17)\n",
      "Requirement already satisfied: nvidia-cublas-cu12==12.6.4.1 in ./env/lib/python3.11/site-packages (from torch) (12.6.4.1)\n",
      "Requirement already satisfied: nvidia-cufft-cu12==11.3.0.4 in ./env/lib/python3.11/site-packages (from torch) (11.3.0.4)\n",
      "Requirement already satisfied: nvidia-curand-cu12==10.3.7.77 in ./env/lib/python3.11/site-packages (from torch) (10.3.7.77)\n",
      "Requirement already satisfied: nvidia-cusolver-cu12==11.7.1.2 in ./env/lib/python3.11/site-packages (from torch) (11.7.1.2)\n",
      "Requirement already satisfied: nvidia-cusparse-cu12==12.5.4.2 in ./env/lib/python3.11/site-packages (from torch) (12.5.4.2)\n",
      "Requirement already satisfied: nvidia-cusparselt-cu12==0.6.3 in ./env/lib/python3.11/site-packages (from torch) (0.6.3)\n",
      "Requirement already satisfied: nvidia-nccl-cu12==2.26.2 in ./env/lib/python3.11/site-packages (from torch) (2.26.2)\n",
      "Requirement already satisfied: nvidia-nvtx-cu12==12.6.77 in ./env/lib/python3.11/site-packages (from torch) (12.6.77)\n",
      "Requirement already satisfied: nvidia-nvjitlink-cu12==12.6.85 in ./env/lib/python3.11/site-packages (from torch) (12.6.85)\n",
      "Requirement already satisfied: nvidia-cufile-cu12==1.11.1.6 in ./env/lib/python3.11/site-packages (from torch) (1.11.1.6)\n",
      "Requirement already satisfied: triton==3.3.0 in ./env/lib/python3.11/site-packages (from torch) (3.3.0)\n",
      "Requirement already satisfied: setuptools>=40.8.0 in ./env/lib/python3.11/site-packages (from triton==3.3.0->torch) (65.5.0)\n",
      "Requirement already satisfied: pillow!=8.3.*,>=5.3.0 in ./env/lib/python3.11/site-packages (from torchvision) (11.2.1)\n",
      "Requirement already satisfied: mpmath<1.4,>=1.1.0 in ./env/lib/python3.11/site-packages (from sympy>=1.13.3->torch) (1.3.0)\n",
      "Requirement already satisfied: MarkupSafe>=2.0 in ./env/lib/python3.11/site-packages (from jinja2->torch) (3.0.2)\n",
      "\n",
      "\u001b[1m[\u001b[0m\u001b[34;49mnotice\u001b[0m\u001b[1;39;49m]\u001b[0m\u001b[39;49m A new release of pip is available: \u001b[0m\u001b[31;49m23.2.1\u001b[0m\u001b[39;49m -> \u001b[0m\u001b[32;49m25.1.1\u001b[0m\n",
      "\u001b[1m[\u001b[0m\u001b[34;49mnotice\u001b[0m\u001b[1;39;49m]\u001b[0m\u001b[39;49m To update, run: \u001b[0m\u001b[32;49mpip install --upgrade pip\u001b[0m\n"
     ]
    }
   ],
   "source": [
    "!pip install torch torchvision numpy"
   ]
  },
  {
   "cell_type": "code",
   "execution_count": 9,
   "id": "029f87cc",
   "metadata": {},
   "outputs": [],
   "source": [
    "import torchvision\n",
    "import numpy as np\n",
    "import torch\n",
    "from torch.utils.data import DataLoader\n",
    "import json\n",
    "import os"
   ]
  },
  {
   "cell_type": "markdown",
   "id": "9685854a",
   "metadata": {},
   "source": [
    "### Download pre-trained model"
   ]
  },
  {
   "cell_type": "code",
   "execution_count": 3,
   "id": "b7e4190f",
   "metadata": {},
   "outputs": [],
   "source": [
    "pretrained_model = torchvision.models.resnet34(weights='IMAGENET1K_V1')"
   ]
  },
  {
   "cell_type": "markdown",
   "id": "1550fd2b",
   "metadata": {},
   "source": [
    "### Setup dataset"
   ]
  },
  {
   "cell_type": "code",
   "execution_count": 4,
   "id": "6174fa35",
   "metadata": {},
   "outputs": [
    {
     "name": "stdout",
     "output_type": "stream",
     "text": [
      "Archive:  TestDataSet.zip\n"
     ]
    }
   ],
   "source": [
    "!unzip -n TestDataSet.zip "
   ]
  },
  {
   "cell_type": "code",
   "execution_count": 23,
   "id": "101b4c3d",
   "metadata": {},
   "outputs": [],
   "source": [
    "mean_norms = np.array([0.485, 0.456, 0.406])\n",
    "std_norms = np.array([0.229, 0.224, 0.225])\n",
    "plain_transforms = torchvision.transforms.Compose([\n",
    "    torchvision.transforms.ToTensor(), \n",
    "    torchvision.transforms.Normalize(mean=mean_norms, std=std_norms) \n",
    "])\n",
    "\n",
    "batch_size = 128\n",
    "dataset_path = \"./TestDataSet\"\n",
    "dataset = torchvision.datasets.ImageFolder(root=dataset_path, transform=plain_transforms)\n",
    "dataloader = DataLoader(dataset, batch_size=batch_size, shuffle=False, num_workers=2)"
   ]
  },
  {
   "cell_type": "code",
   "execution_count": 27,
   "id": "4320818a",
   "metadata": {},
   "outputs": [],
   "source": [
    "# Load label mapping\n",
    "with open(dataset_path + '/labels_list.json', \"r\") as f:\n",
    "    label_list = json.load(f)\n",
    "\n",
    "class_idx = [int(label.split(': ')[0]) for label in label_list]\n",
    "class_label = [label.split(': ')[1] for label in label_list]\n",
    "\n",
    "# map index to labels\n",
    "class_mapping = {idx: label for idx, label in zip(class_idx, class_label)}\n",
    "\n",
    "# map folders to labels\n",
    "subfolders = [ f.name for f in os.scandir(dataset_path) if f.is_dir() ]\n",
    "subfolders.sort()\n",
    "subfolders\n",
    "\n",
    "folder_map = {folder_name: idx for folder_name, idx in zip(subfolders, class_idx)}\n",
    "\n",
    "target_to_imagenet = {target: idx for target, idx in enumerate(class_idx)}"
   ]
  },
  {
   "cell_type": "markdown",
   "id": "46285d94",
   "metadata": {},
   "source": [
    "### Evaluate pre-trained model"
   ]
  },
  {
   "cell_type": "code",
   "execution_count": null,
   "id": "cb23867e",
   "metadata": {},
   "outputs": [
    {
     "name": "stdout",
     "output_type": "stream",
     "text": [
      "Top-1 Accuracy: 76.00%\n",
      "Top-5 Accuracy: 94.20%\n"
     ]
    }
   ],
   "source": [
    "# Set device\n",
    "device = torch.device(\"cuda\" if torch.cuda.is_available() else \"cpu\")\n",
    "\n",
    "pretrained_model = pretrained_model.to(device)\n",
    "pretrained_model.eval()\n",
    "\n",
    "top1_correct = 0\n",
    "top5_correct = 0\n",
    "total = 0\n",
    "\n",
    "with torch.no_grad():\n",
    "    for images, targets in dataloader:\n",
    "        images = images.to(device)\n",
    "        targets = targets.to(device)\n",
    "        # map targets from test dataset to imagenet predictions\n",
    "        imagenet_targets = torch.tensor(\n",
    "            [target_to_imagenet[int(t)] for t in targets], device=device\n",
    "        )\n",
    "\n",
    "        # get preds\n",
    "        outputs = pretrained_model(images)\n",
    "        _, top5_preds = outputs.topk(5, dim=1)\n",
    "\n",
    "        # Top-1 accuracy\n",
    "        top1_correct += (top5_preds[:, 0] == imagenet_targets).sum().item()\n",
    "\n",
    "        # Top-5 accuracy\n",
    "        for i in range(images.size(0)):\n",
    "            if imagenet_targets[i].item() in top5_preds[i]:\n",
    "                top5_correct += 1\n",
    "\n",
    "        total += images.size(0)\n",
    "\n",
    "# Compute accuracy\n",
    "top1_acc = top1_correct / total\n",
    "top5_acc = top5_correct / total\n",
    "\n",
    "print(f\"Top-1 Accuracy: {top1_acc * 100:.2f}%\")\n",
    "print(f\"Top-5 Accuracy: {top5_acc * 100:.2f}%\")"
   ]
  }
 ],
 "metadata": {
  "kernelspec": {
   "display_name": "env",
   "language": "python",
   "name": "python3"
  },
  "language_info": {
   "codemirror_mode": {
    "name": "ipython",
    "version": 3
   },
   "file_extension": ".py",
   "mimetype": "text/x-python",
   "name": "python",
   "nbconvert_exporter": "python",
   "pygments_lexer": "ipython3",
   "version": "3.11.5"
  }
 },
 "nbformat": 4,
 "nbformat_minor": 5
}
